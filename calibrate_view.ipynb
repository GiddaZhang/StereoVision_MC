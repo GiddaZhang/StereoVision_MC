{
 "cells": [
  {
   "cell_type": "code",
   "execution_count": 1,
   "metadata": {},
   "outputs": [],
   "source": [
    "import numpy as np\n",
    "import cv2\n",
    "from stereovision.calibration import StereoCalibrator, StereoCalibration"
   ]
  },
  {
   "cell_type": "code",
   "execution_count": 7,
   "metadata": {},
   "outputs": [],
   "source": [
    "calib = StereoCalibration()\n",
    "# 相机内参\n",
    "l_cam_mat = np.array([[642.4922, 0, 309.1599], [0, 644.0784, 231.4226], [0, 0, 1]])\n",
    "r_cam_mat = np.array([[642.0054, 0, 323.7684], [0, 643.1802, 228.1761], [0, 0, 1]])\n",
    "# 径向畸变\n",
    "l_dist = np.array([[-0.000699168, 0.0836996, 0, 0, 0]])\n",
    "r_dist = np.array([[0.01518, -0.008996, 0, 0, 0]])\n",
    "# 旋转矩阵\n",
    "rot_mat = np.array([[0.99988, -0.010141, 0.01135],\n",
    "                    [0.010104, 0.99994, 0.0032789],\n",
    "                    [-0.01138, -0.00316379, 0.99993]])\n",
    "# rot_mat = rot_mat.T\n",
    "# 平移向量\n",
    "trans_vec = np.array([[-56.14931], [0.04385568], [-0.6910189]])\n",
    "# Essential Matrix\n",
    "e_mat = np.array([[-0.0065098, 0.6911237, 0.041666],\n",
    "                  [-0.0536346, 0.177123, 56.15326],\n",
    "                  [0.525559, -56.1466, 0.1781438]])\n",
    "# Fundamental Matrix\n",
    "f_mat = np.array([[-1.5782e-08, 1.6713925e-06, -0.000317],\n",
    "                  [-1.29791e-07, 4.275669e-07, 0.0872468],\n",
    "                  [0.00085272, -0.087812, 0.2941864]])\n"
   ]
  },
  {
   "cell_type": "code",
   "execution_count": 8,
   "metadata": {},
   "outputs": [],
   "source": [
    "(calib.rect_trans[\"left\"], calib.rect_trans[\"right\"],\n",
    " calib.proj_mats[\"left\"], calib.proj_mats[\"right\"],\n",
    " calib.disp_to_depth_mat, calib.valid_boxes[\"left\"],\n",
    " calib.valid_boxes[\"right\"]) = cv2.stereoRectify(calib.cam_mats[\"left\"],\n",
    "                                                 calib.dist_coefs[\"left\"],\n",
    "                                                 calib.cam_mats[\"right\"],\n",
    "                                                 calib.dist_coefs[\"right\"],\n",
    "                                                 (640, 480),\n",
    "                                                 calib.rot_mat,\n",
    "                                                 calib.trans_vec,\n",
    "                                                 flags=0)\n",
    "for side in (\"left\", \"right\"):\n",
    "    (calib.undistortion_map[side],\n",
    "        calib.rectification_map[side]) = cv2.initUndistortRectifyMap(\n",
    "        calib.cam_mats[side],\n",
    "        calib.dist_coefs[side],\n",
    "        calib.rect_trans[side],\n",
    "        calib.proj_mats[side],\n",
    "        (640, 480),\n",
    "        cv2.CV_32FC1)"
   ]
  },
  {
   "cell_type": "code",
   "execution_count": null,
   "metadata": {},
   "outputs": [],
   "source": [
    "\n"
   ]
  },
  {
   "cell_type": "code",
   "execution_count": 9,
   "metadata": {},
   "outputs": [],
   "source": [
    "calib.export('calibrate/4')"
   ]
  },
  {
   "cell_type": "code",
   "execution_count": 2,
   "metadata": {},
   "outputs": [
    {
     "name": "stdout",
     "output_type": "stream",
     "text": [
      "[[642.4922   0.     309.1599]\n",
      " [  0.     644.0784 231.4226]\n",
      " [  0.       0.       1.    ]]\n",
      "[[642.0054   0.     323.7684]\n",
      " [  0.     643.1802 228.1761]\n",
      " [  0.       0.       1.    ]]\n"
     ]
    }
   ],
   "source": [
    "# dist_coefs_left = np.load('calibrate/2/dist_coefs_left.npy')\n",
    "# dist_coefs_right = np.load('calibrate/2/dist_coefs_right.npy')\n",
    "# print(dist_coefs_left)\n",
    "# print(dist_coefs_right)\n",
    "l = np.load('calibrate/3/cam_mats_left.npy')\n",
    "print(l)\n",
    "r = np.load('calibrate/3/cam_mats_right.npy')\n",
    "print(r)\n",
    "# Q = np.load('calibrate/3/disp_to_depth_mat.npy')\n",
    "# print(Q)"
   ]
  }
 ],
 "metadata": {
  "kernelspec": {
   "display_name": "base",
   "language": "python",
   "name": "python3"
  },
  "language_info": {
   "codemirror_mode": {
    "name": "ipython",
    "version": 3
   },
   "file_extension": ".py",
   "mimetype": "text/x-python",
   "name": "python",
   "nbconvert_exporter": "python",
   "pygments_lexer": "ipython3",
   "version": "3.9.12 (main, Apr  4 2022, 05:22:27) [MSC v.1916 64 bit (AMD64)]"
  },
  "orig_nbformat": 4,
  "vscode": {
   "interpreter": {
    "hash": "b09ec625f77bf4fd762565a912b97636504ad6ec901eb2d0f4cf5a7de23e1ee5"
   }
  }
 },
 "nbformat": 4,
 "nbformat_minor": 2
}
